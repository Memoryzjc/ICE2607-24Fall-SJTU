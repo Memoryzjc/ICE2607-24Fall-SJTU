{
 "cells": [
  {
   "cell_type": "code",
   "execution_count": 126,
   "metadata": {},
   "outputs": [],
   "source": [
    "import cv2\n",
    "import numpy as np\n",
    "import os\n",
    "import matplotlib.pyplot as plt"
   ]
  },
  {
   "cell_type": "code",
   "execution_count": 127,
   "metadata": {},
   "outputs": [],
   "source": [
    "# Get the path of the current working directory\n",
    "current_working_dir = os.path.abspath('')\n",
    "imgs_path = os.path.join(current_working_dir, 'img')\n",
    "\n",
    "# Make output directory\n",
    "output_path = os.path.join(current_working_dir, 'output')\n",
    "os.makedirs(output_path, exist_ok=True)"
   ]
  },
  {
   "cell_type": "code",
   "execution_count": 128,
   "metadata": {},
   "outputs": [],
   "source": [
    "# Load the image\n",
    "img = cv2.imread(os.path.join(imgs_path, '3.jpg'))\n",
    "\n",
    "# Convert the image to grayscale\n",
    "gray = cv2.cvtColor(img, cv2.COLOR_BGR2GRAY)"
   ]
  },
  {
   "cell_type": "code",
   "execution_count": 129,
   "metadata": {},
   "outputs": [],
   "source": [
    "# Apply GaussianBlur to the image\n",
    "blurred = cv2.GaussianBlur(gray, (3, 3), 0)"
   ]
  },
  {
   "cell_type": "code",
   "execution_count": 130,
   "metadata": {},
   "outputs": [],
   "source": [
    "# Use Sobel operator to get the gradients\n",
    "grad_x = cv2.Sobel(blurred, cv2.CV_16S, 1, 0, ksize=3)\n",
    "grad_y = cv2.Sobel(blurred, cv2.CV_16S, 0, 1, ksize=3)\n",
    "grad_x = cv2.convertScaleAbs(grad_x)\n",
    "grad_y = cv2.convertScaleAbs(grad_y)\n",
    "\n",
    "# Calculate the magnitude of the gradients and the angle\n",
    "magnitude = np.sqrt(grad_x**2 + grad_y**2)\n",
    "angle = np.arctan2(grad_y, grad_x)"
   ]
  },
  {
   "cell_type": "code",
   "execution_count": 131,
   "metadata": {},
   "outputs": [],
   "source": [
    "# Not maximum suppression\n",
    "rows, cols = magnitude.shape\n",
    "suppressed_normal = np.zeros((rows, cols), dtype=np.uint8)\n",
    "suppressed_interpolated = np.zeros((rows, cols), dtype=np.uint8)\n",
    "\n",
    "# Not interploated\n",
    "for i in range(1, rows-1):\n",
    "    for j in range(1, cols-1):\n",
    "        if angle[i, j] < 0:\n",
    "            angle[i, j] += np.pi\n",
    "        angle[i, j] = np.rad2deg(angle[i, j])\n",
    "        if (0 <= angle[i, j] < 22.5) or (157.5 <= angle[i, j] <= 180):\n",
    "            if magnitude[i, j] > magnitude[i, j-1] and magnitude[i, j] > magnitude[i, j+1]:\n",
    "                suppressed_normal[i, j] = magnitude[i, j]\n",
    "        elif 22.5 <= angle[i, j] < 67.5:\n",
    "            if magnitude[i, j] > magnitude[i-1, j+1] and magnitude[i, j] > magnitude[i+1, j-1]:\n",
    "                suppressed_normal[i, j] = magnitude[i, j]\n",
    "        elif 67.5 <= angle[i, j] < 112.5:\n",
    "            if magnitude[i, j] > magnitude[i-1, j] and magnitude[i, j] > magnitude[i+1, j]:\n",
    "                suppressed_normal[i, j] = magnitude[i, j]\n",
    "        elif 112.5 <= angle[i, j] < 157.5:\n",
    "            if magnitude[i, j] > magnitude[i-1, j-1] and magnitude[i, j] > magnitude[i+1, j+1]:\n",
    "                suppressed_normal[i, j] = magnitude[i, j]\n",
    "\n",
    "def interpolate(M1, M2, w):\n",
    "    if (M1 > M2):\n",
    "        return (1 + w) * M1 - w * M2\n",
    "    else:\n",
    "        return w * M1 + (1 - w) * M2\n",
    "\n",
    "\n",
    "# Interpolated\n",
    "for i in range(1, rows - 1):\n",
    "    for j in range(1, cols - 1):\n",
    "        # Preprocess the angle\n",
    "        if angle[i, j] < 0:\n",
    "            angle[i, j] += np.pi\n",
    "        angle[i, j] = angle[i, j] % np.pi\n",
    "        angle[i, j] = np.rad2deg(angle[i, j])\n",
    "\n",
    "        # Check the angle\n",
    "        if angle[i, j] == 0:\n",
    "            if magnitude[i, j] > magnitude[i, j - 1] and magnitude[i, j] > magnitude[i, j + 1]:\n",
    "                suppressed_interpolated[i, j] = magnitude[i, j]\n",
    "        elif angle[i, j] == 135:\n",
    "            if magnitude[i, j] > magnitude[i - 1, j + 1] and magnitude[i, j] > magnitude[i + 1, j - 1]:\n",
    "                suppressed_interpolated[i, j] = magnitude[i, j]\n",
    "        elif angle[i, j] == 90:\n",
    "            if magnitude[i, j] > magnitude[i - 1, j] and magnitude[i, j] > magnitude[i + 1, j]:\n",
    "                suppressed_interpolated[i, j] = magnitude[i, j]\n",
    "        elif angle[i, j] == 45:\n",
    "            if magnitude[i, j] > magnitude[i - 1, j - 1] and magnitude[i, j] > magnitude[i + 1, j + 1]:\n",
    "                suppressed_interpolated[i, j] = magnitude[i, j]\n",
    "        elif 0 < angle[i, j] < 45:\n",
    "            w = 1 / np.tan(angle[i, j])\n",
    "            dtmp1_mag = interpolate(magnitude[i, j - 1], magnitude[i - 1, j - 1], w)\n",
    "            dtme2_mag = interpolate(magnitude[i, j + 1], magnitude[i + 1, j + 1], w)\n",
    "            if magnitude[i, j] > dtmp1_mag and magnitude[i, j] > dtme2_mag:\n",
    "                suppressed_interpolated[i, j] = magnitude[i, j]\n",
    "        elif 45 < angle[i, j] < 90:\n",
    "            w = np.tan(angle[i, j])\n",
    "            dtmp1_mag = interpolate(magnitude[i - 1, j], magnitude[i - 1, j - 1], w)\n",
    "            dtme2_mag = interpolate(magnitude[i + 1, j], magnitude[i + 1, j + 1], w)\n",
    "            if magnitude[i, j] > dtmp1_mag and magnitude[i, j] > dtme2_mag:\n",
    "                suppressed_interpolated[i, j] = magnitude[i, j]\n",
    "        elif 90 < angle[i, j] < 135:\n",
    "            w = np.tan(angle[i, j])\n",
    "            dtmp1_mag = interpolate(magnitude[i - 1, j], magnitude[i - 1, j + 1], w)\n",
    "            dtme2_mag = interpolate(magnitude[i + 1, j], magnitude[i + 1, j - 1], w)\n",
    "            if magnitude[i, j] > dtmp1_mag and magnitude[i, j] > dtme2_mag:\n",
    "                suppressed_interpolated[i, j] = magnitude[i, j]\n",
    "        elif 135 < angle[i, j] < 180:\n",
    "            w = 1 / np.tan(angle[i, j])\n",
    "            dtmp1_mag = interpolate(magnitude[i, j - 1], magnitude[i - 1, j + 1], w)\n",
    "            dtme2_mag = interpolate(magnitude[i, j + 1], magnitude[i + 1, j - 1], w)\n",
    "            if magnitude[i, j] > dtmp1_mag and magnitude[i, j] > dtme2_mag:\n",
    "                suppressed_interpolated[i, j] = magnitude[i, j]"
   ]
  },
  {
   "cell_type": "code",
   "execution_count": 132,
   "metadata": {},
   "outputs": [],
   "source": [
    "# Double threshold and edge tracking\n",
    "def double_threshold(img, low_threshold, high_threshold):\n",
    "    # 双阈值检测\n",
    "    strong = 255\n",
    "    weak = 75\n",
    "\n",
    "    strong_i, strong_j = np.where(img >= high_threshold)\n",
    "    weak_i, weak_j = np.where((img >= low_threshold) & (img < high_threshold))\n",
    "    zeros_i, zeros_j = np.where(img < low_threshold)\n",
    "\n",
    "    img[strong_i, strong_j] = strong\n",
    "    img[weak_i, weak_j] = weak\n",
    "    img[zeros_i, zeros_j] = 0\n",
    "\n",
    "    return img, weak, strong\n",
    "\n",
    "def edge_tracking(img, weak, strong=255):\n",
    "    # 边缘连接\n",
    "    M, N = img.shape\n",
    "    for i in range(1, M - 1):\n",
    "        for j in range(1, N - 1):\n",
    "            if img[i, j] == weak:\n",
    "                if strong in [img[i + a, j + b] for a in [-1, 0, 1] for b in [-1, 0, 1]]:\n",
    "                    img[i, j] = strong\n",
    "                else:\n",
    "                    img[i, j] = 0\n",
    "    return img\n"
   ]
  },
  {
   "cell_type": "code",
   "execution_count": 133,
   "metadata": {},
   "outputs": [
    {
     "data": {
      "image/png": "[encoded data removed]",
      "text/plain": [
       "<Figure size 640x480 with 1 Axes>"
      ]
     },
     "metadata": {},
     "output_type": "display_data"
    }
   ],
   "source": [
    "# Test\n",
    "ratio = 0.4\n",
    "threshold_high = 100\n",
    "threshold_low = threshold_high * ratio\n",
    "edge, weak, strong = double_threshold(suppressed_interpolated, threshold_low, threshold_high)\n",
    "edge = edge_tracking(edge, weak, strong)\n",
    "\n",
    "plt.imshow(edge, cmap='gray')\n",
    "plt.show()"
   ]
  },
  {
   "cell_type": "code",
   "execution_count": null,
   "metadata": {},
   "outputs": [],
   "source": []
  }
 ],
 "metadata": {
  "kernelspec": {
   "display_name": "ice2607",
   "language": "python",
   "name": "python3"
  },
  "language_info": {
   "codemirror_mode": {
    "name": "ipython",
    "version": 3
   },
   "file_extension": ".py",
   "mimetype": "text/x-python",
   "name": "python",
   "nbconvert_exporter": "python",
   "pygments_lexer": "ipython3",
   "version": "3.13.0"
  }
 },
 "nbformat": 4,
 "nbformat_minor": 2
}
