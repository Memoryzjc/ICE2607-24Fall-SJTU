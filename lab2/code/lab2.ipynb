{
 "cells": [
  {
   "cell_type": "code",
   "execution_count": 13,
   "metadata": {},
   "outputs": [],
   "source": [
    "import cv2\n",
    "import numpy as np\n",
    "import os\n",
    "import matplotlib.pyplot as plt"
   ]
  },
  {
   "cell_type": "code",
   "execution_count": 14,
   "metadata": {},
   "outputs": [],
   "source": [
    "# Get the path of the current working directory\n",
    "current_working_dir = os.path.abspath('')\n",
    "imgs_path = os.path.join(current_working_dir, 'img')\n",
    "\n",
    "# Make output directory\n",
    "output_path = os.path.join(current_working_dir, 'output_test')\n",
    "os.makedirs(output_path, exist_ok=True)"
   ]
  },
  {
   "cell_type": "code",
   "execution_count": 15,
   "metadata": {},
   "outputs": [],
   "source": [
    "# Load the image\n",
    "img = cv2.imread(os.path.join(imgs_path, '3.jpg'))\n",
    "\n",
    "# Convert the image to grayscale\n",
    "gray = cv2.cvtColor(img, cv2.COLOR_BGR2GRAY)"
   ]
  },
  {
   "cell_type": "code",
   "execution_count": 16,
   "metadata": {},
   "outputs": [],
   "source": [
    "# Apply GaussianBlur to the image\n",
    "blurred = cv2.GaussianBlur(gray, (3, 3), 0)"
   ]
  },
  {
   "cell_type": "code",
   "execution_count": 17,
   "metadata": {},
   "outputs": [],
   "source": [
    "def sobel_gradients(img):\n",
    "    # Use Sobel operator to get the gradients\n",
    "    grad_x = cv2.Sobel(img, cv2.CV_16S, 1, 0, ksize=3)\n",
    "    grad_y = cv2.Sobel(img, cv2.CV_16S, 0, 1, ksize=3)\n",
    "\n",
    "    # Convert the gradients to absolute values\n",
    "    grad_x_abs = cv2.convertScaleAbs(grad_x)\n",
    "    grad_y_abs = cv2.convertScaleAbs(grad_y)\n",
    "\n",
    "    # Convert the gradients to float32\n",
    "    grad_x_abs = np.float32(grad_x_abs)\n",
    "    grad_y_abs = np.float32(grad_y_abs)\n",
    "\n",
    "    # Calculate the magnitude of the gradients and the angle\n",
    "    magnitude = np.sqrt(grad_x_abs**2 + grad_y_abs**2)\n",
    "    angle = np.arctan2(grad_y, grad_x)\n",
    "\n",
    "    return magnitude, angle"
   ]
  },
  {
   "cell_type": "code",
   "execution_count": 18,
   "metadata": {},
   "outputs": [],
   "source": [
    "def non_max_suppression(magnitude, angle):\n",
    "    # Non-maximum suppression\n",
    "    M, N = magnitude.shape\n",
    "    suppressed = np.zeros((M, N), dtype=np.float32)\n",
    "    angle = np.rad2deg(angle) % 180\n",
    "\n",
    "    for i in range(1, M - 1):\n",
    "        for j in range(1, N - 1):\n",
    "            q = 255\n",
    "            r = 255\n",
    "            if (0 <= angle[i, j] < 22.5) or (157.5 <= angle[i, j] <= 180):\n",
    "                q = magnitude[i, j + 1]\n",
    "                r = magnitude[i, j - 1]\n",
    "            elif 22.5 <= angle[i, j] < 67.5:\n",
    "                q = magnitude[i - 1, j - 1]\n",
    "                r = magnitude[i + 1, j + 1]\n",
    "            elif 67.5 <= angle[i, j] < 112.5:\n",
    "                q = magnitude[i - 1, j]\n",
    "                r = magnitude[i + 1, j]\n",
    "            elif 112.5 <= angle[i, j] < 157.5:\n",
    "                q = magnitude[i + 1, j - 1]\n",
    "                r = magnitude[i - 1, j + 1]\n",
    "\n",
    "            if magnitude[i, j] >= q and magnitude[i, j] >= r:\n",
    "                suppressed[i, j] = magnitude[i, j]\n",
    "    return suppressed"
   ]
  },
  {
   "cell_type": "code",
   "execution_count": 19,
   "metadata": {},
   "outputs": [],
   "source": [
    "def interpolate(M1, M2, w):\n",
    "    # Calculate the interpolated value\n",
    "    return M1 * w + M2 * (1 - w)\n",
    "    # if (M1 > M2):\n",
    "    #     return w * M1 + (1 - w) * M2\n",
    "    # else:\n",
    "    #     return w * M1 + (1 - w) * M2\n",
    "\n",
    "def non_max_suppression_interpolated(magnitude, angle):\n",
    "    # Non-maximum suppression with interpolation\n",
    "    rows, cols = magnitude.shape\n",
    "    suppressed_interpolated = np.zeros((rows, cols), dtype=np.float32)\n",
    "\n",
    "    # Preprocess the angle\n",
    "    angle = np.rad2deg(angle) % 180\n",
    "\n",
    "    # Interpolated\n",
    "    for i in range(1, rows - 1):\n",
    "        for j in range(1, cols - 1):\n",
    "\n",
    "            # Check the angle\n",
    "            if angle[i, j] == 0:\n",
    "                if magnitude[i, j] > magnitude[i, j - 1] and magnitude[i, j] > magnitude[i, j + 1]:\n",
    "                    suppressed_interpolated[i, j] = magnitude[i, j]\n",
    "            elif angle[i, j] == 135:\n",
    "                if magnitude[i, j] > magnitude[i - 1, j + 1] and magnitude[i, j] > magnitude[i + 1, j - 1]:\n",
    "                    suppressed_interpolated[i, j] = magnitude[i, j]\n",
    "            elif angle[i, j] == 90:\n",
    "                if magnitude[i, j] > magnitude[i - 1, j] and magnitude[i, j] > magnitude[i + 1, j]:\n",
    "                    suppressed_interpolated[i, j] = magnitude[i, j]\n",
    "            elif angle[i, j] == 45:\n",
    "                if magnitude[i, j] > magnitude[i - 1, j - 1] and magnitude[i, j] > magnitude[i + 1, j + 1]:\n",
    "                    suppressed_interpolated[i, j] = magnitude[i, j]\n",
    "            elif 0 < angle[i, j] < 45:\n",
    "                w = np.tan(np.deg2rad(angle[i, j]))\n",
    "                dtmp1_mag = interpolate(magnitude[i, j - 1], magnitude[i - 1, j - 1], w)\n",
    "                dtmp2_mag = interpolate(magnitude[i, j + 1], magnitude[i + 1, j + 1], w)\n",
    "                if magnitude[i, j] > dtmp1_mag and magnitude[i, j] > dtmp2_mag:\n",
    "                    suppressed_interpolated[i, j] = magnitude[i, j]\n",
    "            elif 45 < angle[i, j] < 90:\n",
    "                w = 1 / np.tan(np.deg2rad(angle[i, j]))\n",
    "                dtmp1_mag = interpolate(magnitude[i - 1, j], magnitude[i - 1, j - 1], w)\n",
    "                dtmp2_mag = interpolate(magnitude[i + 1, j], magnitude[i + 1, j + 1], w)\n",
    "                if magnitude[i, j] > dtmp1_mag and magnitude[i, j] > dtmp2_mag:\n",
    "                    suppressed_interpolated[i, j] = magnitude[i, j]\n",
    "            elif 90 < angle[i, j] < 135:\n",
    "                w = -1 / np.tan(np.deg2rad(angle[i, j]))\n",
    "                dtmp1_mag = interpolate(magnitude[i - 1, j], magnitude[i - 1, j + 1], w)\n",
    "                dtmp2_mag = interpolate(magnitude[i + 1, j], magnitude[i + 1, j - 1], w)\n",
    "                if magnitude[i, j] > dtmp1_mag and magnitude[i, j] > dtmp2_mag:\n",
    "                    suppressed_interpolated[i, j] = magnitude[i, j]\n",
    "            elif 135 < angle[i, j] < 180:\n",
    "                w = -np.tan(np.deg2rad(angle[i, j]))\n",
    "                dtmp1_mag = interpolate(magnitude[i, j - 1], magnitude[i - 1, j + 1], w)\n",
    "                dtmp2_mag = interpolate(magnitude[i, j + 1], magnitude[i + 1, j - 1], w)\n",
    "                if magnitude[i, j] > dtmp1_mag and magnitude[i, j] > dtmp2_mag:\n",
    "                    suppressed_interpolated[i, j] = magnitude[i, j]\n",
    "\n",
    "    return suppressed_interpolated"
   ]
  },
  {
   "cell_type": "code",
   "execution_count": 20,
   "metadata": {},
   "outputs": [],
   "source": [
    "def double_threshold(img, low_threshold, high_threshold):\n",
    "    # Double threshold\n",
    "    strong = 255\n",
    "    weak = 75\n",
    "\n",
    "    # Get the strong, weak, and zeros pixels' indices\n",
    "    strong_i, strong_j = np.where(img >= high_threshold)\n",
    "    weak_i, weak_j = np.where((img >= low_threshold) & (img < high_threshold))\n",
    "    zeros_i, zeros_j = np.where(img < low_threshold)\n",
    "\n",
    "    # Set the pixels to strong, weak, and zeros\n",
    "    img[strong_i, strong_j] = strong\n",
    "    img[weak_i, weak_j] = weak\n",
    "    img[zeros_i, zeros_j] = 0\n",
    "\n",
    "    return img, weak, strong"
   ]
  },
  {
   "cell_type": "code",
   "execution_count": 21,
   "metadata": {},
   "outputs": [],
   "source": [
    "def edge_tracking(img, weak, strong=255):\n",
    "    # Edge tracking\n",
    "    M, N = img.shape\n",
    "    for i in range(3, M - 3):\n",
    "        for j in range(3, N - 3):\n",
    "            if img[i, j] == weak:\n",
    "                if strong in [img[i + a, j + b] for a in [-3, -2, -1, 0, 1, 2, 3] for b in [-3, -2, -1, 0, 1, 2, 3]]:\n",
    "                    img[i, j] = strong\n",
    "                else:\n",
    "                    img[i, j] = 0\n",
    "    return img"
   ]
  },
  {
   "cell_type": "code",
   "execution_count": 22,
   "metadata": {},
   "outputs": [],
   "source": [
    "def canny_edge_detection(img, low_threshold, high_threshold):\n",
    "    # Canny edge detection algorithm\n",
    "    # Convert the image to grayscale\n",
    "    img_gray = cv2.cvtColor(img, cv2.COLOR_BGR2GRAY)\n",
    "\n",
    "    # Apply Gaussian blur\n",
    "    img_blur = cv2.GaussianBlur(img_gray, (5, 5), .5)\n",
    "\n",
    "    # Get the gradients and angles\n",
    "    magnitude, angles = sobel_gradients(img_blur)\n",
    "\n",
    "    # Non-maximum suppression\n",
    "    suppressed = non_max_suppression(magnitude, angles)\n",
    "\n",
    "    # Double threshold\n",
    "    thresholded, weak, strong = double_threshold(suppressed, low_threshold, high_threshold)\n",
    "\n",
    "    # Edge tracking\n",
    "    edges = edge_tracking(thresholded, weak, strong)\n",
    "\n",
    "    return edges"
   ]
  },
  {
   "cell_type": "code",
   "execution_count": 23,
   "metadata": {},
   "outputs": [],
   "source": [
    "def canny_edge_detection_interpolated(img, low_threshold, high_threshold):\n",
    "    # Canny edge detection algorithm\n",
    "    # Convert the image to grayscale\n",
    "    img_gray = cv2.cvtColor(img, cv2.COLOR_BGR2GRAY)\n",
    "\n",
    "    # Apply Gaussian blur\n",
    "    img_blur = cv2.GaussianBlur(img_gray, (5, 5), 0.5)\n",
    "\n",
    "    # Get the gradients and angles\n",
    "    magnitude, angles = sobel_gradients(img_blur)\n",
    "\n",
    "    # Non-maximum suppression\n",
    "    suppressed = non_max_suppression_interpolated(magnitude, angles)\n",
    "    plt.figure()\n",
    "    # Double threshold\n",
    "    thresholded, weak, strong = double_threshold(suppressed, low_threshold, high_threshold)\n",
    "\n",
    "    # Edge tracking\n",
    "    edges = edge_tracking(thresholded, weak, strong)\n",
    "\n",
    "    return edges"
   ]
  },
  {
   "cell_type": "code",
   "execution_count": 24,
   "metadata": {},
   "outputs": [
    {
     "data": {
      "text/plain": [
       "<Figure size 640x480 with 0 Axes>"
      ]
     },
     "metadata": {},
     "output_type": "display_data"
    },
    {
     "data": {
      "text/plain": [
       "<Figure size 640x480 with 0 Axes>"
      ]
     },
     "metadata": {},
     "output_type": "display_data"
    },
    {
     "data": {
      "text/plain": [
       "<Figure size 640x480 with 0 Axes>"
      ]
     },
     "metadata": {},
     "output_type": "display_data"
    }
   ],
   "source": [
    "if __name__ == '__main__':\n",
    "    # Iterate over the images\n",
    "    imgs = ('1.jpg', '2.jpg', '3.jpg')\n",
    "\n",
    "    # Set the high threshold and the ratio\n",
    "    h_th = 155\n",
    "    ratio = 0.45\n",
    "    l_th = int(ratio * h_th)\n",
    "\n",
    "    for index, i in enumerate(imgs):\n",
    "        img = cv2.imread(os.path.join(imgs_path, i))\n",
    "        edges_low = canny_edge_detection(img, low_threshold=l_th, high_threshold=h_th)\n",
    "        edges_interpolated = canny_edge_detection_interpolated(img, low_threshold=l_th, high_threshold=h_th)\n",
    "        edge = cv2.Canny(img, l_th, h_th)\n",
    "\n",
    "        plt.figure(figsize=(15, 6))\n",
    "        plt.subplot(1, 3, 1)\n",
    "        plt.imshow(edges_low, cmap='gray')\n",
    "        plt.title('Canny Edge Detection-My Implementation')\n",
    "        plt.axis('off')\n",
    "\n",
    "        plt.subplot(1, 3, 2)\n",
    "        plt.imshow(edges_interpolated, cmap='gray')\n",
    "        plt.title('Canny Edge Detection-Interpolated')\n",
    "        plt.axis('off')\n",
    "\n",
    "        plt.subplot(1, 3, 3)\n",
    "        plt.imshow(edge, cmap='gray')\n",
    "        plt.title('Canny Edge Detection-OpenCV')\n",
    "        plt.axis('off')\n",
    "\n",
    "        plt.suptitle(f'Canny Edge Detection Comparison-High Threshold: {h_th}, Ratio: {ratio}-image:{index+1}')\n",
    "        plt.tight_layout()\n",
    "        plt.savefig(os.path.join(output_path, f'canny_edge_detection_image{index+1}_HighThreshold_{h_th}_Ratio_{ratio}.png'))\n",
    "        plt.close()"
   ]
  }
 ],
 "metadata": {
  "kernelspec": {
   "display_name": "ice2607",
   "language": "python",
   "name": "python3"
  },
  "language_info": {
   "codemirror_mode": {
    "name": "ipython",
    "version": 3
   },
   "file_extension": ".py",
   "mimetype": "text/x-python",
   "name": "python",
   "nbconvert_exporter": "python",
   "pygments_lexer": "ipython3",
   "version": "3.13.0"
  }
 },
 "nbformat": 4,
 "nbformat_minor": 2
}
